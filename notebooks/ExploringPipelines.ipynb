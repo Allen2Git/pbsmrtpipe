{
 "cells": [
  {
   "cell_type": "markdown",
   "metadata": {},
   "source": [
    "# Exploring Pipelines in pbsmrtpipe"
   ]
  },
  {
   "cell_type": "code",
   "execution_count": 1,
   "metadata": {
    "collapsed": false
   },
   "outputs": [
    {
     "name": "stdout",
     "output_type": "stream",
     "text": [
      "pbcommand 0.4.6\n",
      "pbsmrtpipe 0.43.2\n",
      "2016-08-23 08:40:58.147019\n"
     ]
    }
   ],
   "source": [
    "import re\n",
    "import logging\n",
    "import datetime\n",
    "\n",
    "import pbcommand\n",
    "import pbsmrtpipe\n",
    "import pbsmrtpipe.graph.bgraph as B\n",
    "import pbsmrtpipe.graph.bgraph_utils as BU\n",
    "import pbsmrtpipe.loader as L\n",
    "import pbsmrtpipe.toolbook as TB\n",
    "\n",
    "log = logging.getLogger(__name__)\n",
    "print \"pbcommand {}\".format(pbcommand.get_version())\n",
    "print \"pbsmrtpipe {}\".format(pbsmrtpipe.get_version())\n",
    "print datetime.datetime.now()"
   ]
  },
  {
   "cell_type": "markdown",
   "metadata": {},
   "source": [
    "## Load Pipeline Resources\n",
    "\n",
    "- Tasks (i.e., tool contracts)\n",
    "- Registered file types (see pbcommand.common.FileTypes)\n",
    "- Chunk Operators\n",
    "- Registered Pipelines"
   ]
  },
  {
   "cell_type": "code",
   "execution_count": 4,
   "metadata": {
    "collapsed": false
   },
   "outputs": [],
   "source": [
    "rtasks, rfile_types, chunk_operators, pipelines_d = L.load_all()"
   ]
  },
  {
   "cell_type": "markdown",
   "metadata": {},
   "source": [
    "## Loaded Pipelines"
   ]
  },
  {
   "cell_type": "code",
   "execution_count": 5,
   "metadata": {
    "collapsed": false
   },
   "outputs": [
    {
     "name": "stdout",
     "output_type": "stream",
     "text": [
      "Loaded 58 pipelines\n"
     ]
    },
    {
     "data": {
      "text/plain": [
       "['pbsmrtpipe.pipelines.pb_isoseq_classify',\n",
       " 'pbsmrtpipe.pipelines.internal_cond_dev',\n",
       " 'pbsmrtpipe.pipelines.pb_isoseq',\n",
       " 'pbsmrtpipe.pipelines.pipe_falcon',\n",
       " 'pbsmrtpipe.pipelines.sa3_ds_resequencing',\n",
       " 'pbsmrtpipe.pipelines.hgap_fat',\n",
       " 'pbsmrtpipe.pipelines.sa3_fetch',\n",
       " 'pbsmrtpipe.pipelines.sa3_ds_barcode_ccs',\n",
       " 'pbsmrtpipe.pipelines.dev_01_fail',\n",
       " 'pbsmrtpipe.pipelines.pb_modification_detection']"
      ]
     },
     "execution_count": 5,
     "metadata": {},
     "output_type": "execute_result"
    }
   ],
   "source": [
    "print \"Loaded {} pipelines\".format(len(pipelines_d))\n",
    "pipelines_d.keys()[:10]"
   ]
  },
  {
   "cell_type": "markdown",
   "metadata": {},
   "source": [
    "# Show Summary of Specific Pipeline"
   ]
  },
  {
   "cell_type": "code",
   "execution_count": 6,
   "metadata": {
    "collapsed": true
   },
   "outputs": [],
   "source": [
    "pipeline = pipelines_d['pbsmrtpipe.pipelines.dev_local_fasta_chunk']"
   ]
  },
  {
   "cell_type": "code",
   "execution_count": 7,
   "metadata": {
    "collapsed": false
   },
   "outputs": [
    {
     "name": "stdout",
     "output_type": "stream",
     "text": [
      "Pipeline Summary\n",
      "Pipeline Id          :pbsmrtpipe.pipelines.dev_local_fasta_chunk\n",
      "EntryPoints          :1\n",
      "$entry:e_01 -> pbsmrtpipe.tasks.dev_hello_world:0\n",
      "Bindings             :5\n",
      "pbsmrtpipe.tasks.dev_hello_garfield:0 -> pbsmrtpipe.tasks.dev_txt_to_fasta:0\n",
      "pbsmrtpipe.tasks.dev_hello_world:0 -> pbsmrtpipe.tasks.dev_hello_worlder:0\n",
      "pbsmrtpipe.tasks.dev_hello_worlder:0 -> pbsmrtpipe.tasks.dev_hello_garfield:0\n",
      "pbsmrtpipe.tasks.dev_filter_fasta:0 -> pbsmrtpipe.tasks.dev_tc_fasta_report:0\n",
      "pbsmrtpipe.tasks.dev_txt_to_fasta:0 -> pbsmrtpipe.tasks.dev_filter_fasta:0\n",
      "Parents pipeline ids :['pbsmrtpipe.pipelines.dev_01', 'pbsmrtpipe.pipelines.dev_02', 'pbsmrtpipe.pipelines.dev_03']\n",
      "Tags                 :['chunking', 'dev'] \n"
     ]
    }
   ],
   "source": [
    "print pipeline.summary()"
   ]
  },
  {
   "cell_type": "markdown",
   "metadata": {},
   "source": [
    "The '$entry:e_01' is the fundamental required entry point (i.e., path to file) to run the pipeline. When the pipeline is called from the commandline, --entry-point 'e_01:/path/to/file.txt` should be supplied."
   ]
  },
  {
   "cell_type": "markdown",
   "metadata": {},
   "source": [
    "# Load into BindingGraph to get details of pipeline"
   ]
  },
  {
   "cell_type": "code",
   "execution_count": 9,
   "metadata": {
    "collapsed": true
   },
   "outputs": [],
   "source": [
    "bg = B.binding_strs_to_binding_graph(rtasks, pipeline.all_bindings)"
   ]
  },
  {
   "cell_type": "code",
   "execution_count": 10,
   "metadata": {
    "collapsed": false
   },
   "outputs": [],
   "source": [
    "dot_str = BU.binding_graph_to_dot(bg)"
   ]
  },
  {
   "cell_type": "code",
   "execution_count": 11,
   "metadata": {
    "collapsed": false
   },
   "outputs": [
    {
     "data": {
      "image/svg+xml": [
       "<?xml version=\"1.0\" encoding=\"UTF-8\" standalone=\"no\"?>\n",
       "<!DOCTYPE svg PUBLIC \"-//W3C//DTD SVG 1.1//EN\"\n",
       " \"http://www.w3.org/Graphics/SVG/1.1/DTD/svg11.dtd\">\n",
       "<!-- Generated by graphviz version 2.38.0 (20140413.2041)\n",
       " -->\n",
       "<!-- Title: G Pages: 1 -->\n",
       "<svg width=\"1417pt\" height=\"1412pt\"\n",
       " viewBox=\"0.00 0.00 1417.43 1412.00\" xmlns=\"http://www.w3.org/2000/svg\" xmlns:xlink=\"http://www.w3.org/1999/xlink\">\n",
       "<g id=\"graph0\" class=\"graph\" transform=\"scale(1 1) rotate(0) translate(4 1408)\">\n",
       "<title>G</title>\n",
       "<polygon fill=\"white\" stroke=\"none\" points=\"-4,4 -4,-1408 1413.43,-1408 1413.43,4 -4,4\"/>\n",
       "<!-- EntryOutBindingFileNode PacBio.FileTypes.txt e_01 -->\n",
       "<g id=\"node1\" class=\"node\"><title>EntryOutBindingFileNode PacBio.FileTypes.txt e_01</title>\n",
       "<polygon fill=\"azure\" stroke=\"azure\" points=\"881.094,-1332 564.545,-1332 564.545,-1296 881.094,-1296 881.094,-1332\"/>\n",
       "<text text-anchor=\"middle\" x=\"722.82\" y=\"-1309.8\" font-family=\"Times,serif\" font-size=\"14.00\">EntryOutBindingFileNode PacBio.FileTypes.txt e_01</text>\n",
       "</g>\n",
       "<!-- BindingInFileNode pbsmrtpipe.tasks.dev_hello_world&#45;0 PacBio.FileTypes.txt&#45;0.0 -->\n",
       "<g id=\"node15\" class=\"node\"><title>BindingInFileNode pbsmrtpipe.tasks.dev_hello_world&#45;0 PacBio.FileTypes.txt&#45;0.0</title>\n",
       "<ellipse fill=\"none\" stroke=\"azure\" stroke-dasharray=\"1,5\" cx=\"722.82\" cy=\"-1242\" rx=\"300.61\" ry=\"18\"/>\n",
       "<text text-anchor=\"middle\" x=\"722.82\" y=\"-1237.8\" font-family=\"Times,serif\" font-size=\"14.00\">BindingInFileNode pbsmrtpipe.tasks.dev_hello_world&#45;0 PacBio.FileTypes.txt&#45;0.0</text>\n",
       "</g>\n",
       "<!-- EntryOutBindingFileNode PacBio.FileTypes.txt e_01&#45;&gt;BindingInFileNode pbsmrtpipe.tasks.dev_hello_world&#45;0 PacBio.FileTypes.txt&#45;0.0 -->\n",
       "<g id=\"edge1\" class=\"edge\"><title>EntryOutBindingFileNode PacBio.FileTypes.txt e_01&#45;&gt;BindingInFileNode pbsmrtpipe.tasks.dev_hello_world&#45;0 PacBio.FileTypes.txt&#45;0.0</title>\n",
       "<path fill=\"none\" stroke=\"black\" d=\"M722.82,-1295.7C722.82,-1287.98 722.82,-1278.71 722.82,-1270.11\"/>\n",
       "<polygon fill=\"black\" stroke=\"black\" points=\"726.32,-1270.1 722.82,-1260.1 719.32,-1270.1 726.32,-1270.1\"/>\n",
       "</g>\n",
       "<!-- TaskBindingNode pbsmrtpipe.tasks.dev_hello_world&#45;0 -->\n",
       "<g id=\"node2\" class=\"node\"><title>TaskBindingNode pbsmrtpipe.tasks.dev_hello_world&#45;0</title>\n",
       "<polygon fill=\"aquamarine\" stroke=\"aquamarine\" points=\"945.699,-1162.54 945.699,-1177.46 815.139,-1188 630.5,-1188 499.941,-1177.46 499.941,-1162.54 630.5,-1152 815.139,-1152 945.699,-1162.54\"/>\n",
       "<text text-anchor=\"middle\" x=\"722.82\" y=\"-1165.8\" font-family=\"Times,serif\" font-size=\"14.00\">TaskBindingNode pbsmrtpipe.tasks.dev_hello_world&#45;0</text>\n",
       "</g>\n",
       "<!-- BindingOutFileNode pbsmrtpipe.tasks.dev_hello_world&#45;0 PacBio.FileTypes.txt&#45;0.0 -->\n",
       "<g id=\"node20\" class=\"node\"><title>BindingOutFileNode pbsmrtpipe.tasks.dev_hello_world&#45;0 PacBio.FileTypes.txt&#45;0.0</title>\n",
       "<polygon fill=\"none\" stroke=\"azure\" stroke-dasharray=\"1,5\" points=\"1054.73,-1090.54 1054.73,-1105.46 860.3,-1116 585.34,-1116 390.914,-1105.46 390.914,-1090.54 585.34,-1080 860.3,-1080 1054.73,-1090.54\"/>\n",
       "<text text-anchor=\"middle\" x=\"722.82\" y=\"-1093.8\" font-family=\"Times,serif\" font-size=\"14.00\">BindingOutFileNode pbsmrtpipe.tasks.dev_hello_world&#45;0 PacBio.FileTypes.txt&#45;0.0</text>\n",
       "</g>\n",
       "<!-- TaskBindingNode pbsmrtpipe.tasks.dev_hello_world&#45;0&#45;&gt;BindingOutFileNode pbsmrtpipe.tasks.dev_hello_world&#45;0 PacBio.FileTypes.txt&#45;0.0 -->\n",
       "<g id=\"edge2\" class=\"edge\"><title>TaskBindingNode pbsmrtpipe.tasks.dev_hello_world&#45;0&#45;&gt;BindingOutFileNode pbsmrtpipe.tasks.dev_hello_world&#45;0 PacBio.FileTypes.txt&#45;0.0</title>\n",
       "<path fill=\"none\" stroke=\"black\" d=\"M722.82,-1151.7C722.82,-1143.98 722.82,-1134.71 722.82,-1126.11\"/>\n",
       "<polygon fill=\"black\" stroke=\"black\" points=\"726.32,-1126.1 722.82,-1116.1 719.32,-1126.1 726.32,-1126.1\"/>\n",
       "</g>\n",
       "<!-- TaskBindingNode pbsmrtpipe.tasks.dev_txt_to_fasta&#45;0 -->\n",
       "<g id=\"node3\" class=\"node\"><title>TaskBindingNode pbsmrtpipe.tasks.dev_txt_to_fasta&#45;0</title>\n",
       "<polygon fill=\"aquamarine\" stroke=\"aquamarine\" points=\"597.568,-514.544 597.568,-529.456 467.671,-540 283.969,-540 154.072,-529.456 154.072,-514.544 283.969,-504 467.671,-504 597.568,-514.544\"/>\n",
       "<text text-anchor=\"middle\" x=\"375.82\" y=\"-517.8\" font-family=\"Times,serif\" font-size=\"14.00\">TaskBindingNode pbsmrtpipe.tasks.dev_txt_to_fasta&#45;0</text>\n",
       "</g>\n",
       "<!-- BindingOutFileNode pbsmrtpipe.tasks.dev_txt_to_fasta&#45;0 PacBio.FileTypes.Fasta&#45;0.0 -->\n",
       "<g id=\"node11\" class=\"node\"><title>BindingOutFileNode pbsmrtpipe.tasks.dev_txt_to_fasta&#45;0 PacBio.FileTypes.Fasta&#45;0.0</title>\n",
       "<polygon fill=\"none\" stroke=\"azure\" stroke-dasharray=\"1,5\" points=\"716.795,-442.544 716.795,-457.456 517.056,-468 234.583,-468 34.8443,-457.456 34.8443,-442.544 234.583,-432 517.056,-432 716.795,-442.544\"/>\n",
       "<text text-anchor=\"middle\" x=\"375.82\" y=\"-445.8\" font-family=\"Times,serif\" font-size=\"14.00\">BindingOutFileNode pbsmrtpipe.tasks.dev_txt_to_fasta&#45;0 PacBio.FileTypes.Fasta&#45;0.0</text>\n",
       "</g>\n",
       "<!-- TaskBindingNode pbsmrtpipe.tasks.dev_txt_to_fasta&#45;0&#45;&gt;BindingOutFileNode pbsmrtpipe.tasks.dev_txt_to_fasta&#45;0 PacBio.FileTypes.Fasta&#45;0.0 -->\n",
       "<g id=\"edge3\" class=\"edge\"><title>TaskBindingNode pbsmrtpipe.tasks.dev_txt_to_fasta&#45;0&#45;&gt;BindingOutFileNode pbsmrtpipe.tasks.dev_txt_to_fasta&#45;0 PacBio.FileTypes.Fasta&#45;0.0</title>\n",
       "<path fill=\"none\" stroke=\"black\" d=\"M375.82,-503.697C375.82,-495.983 375.82,-486.712 375.82,-478.112\"/>\n",
       "<polygon fill=\"black\" stroke=\"black\" points=\"379.32,-478.104 375.82,-468.104 372.32,-478.104 379.32,-478.104\"/>\n",
       "</g>\n",
       "<!-- TaskBindingNode pbsmrtpipe.tasks.dev_hello_garfield&#45;0 -->\n",
       "<g id=\"node4\" class=\"node\"><title>TaskBindingNode pbsmrtpipe.tasks.dev_hello_garfield&#45;0</title>\n",
       "<polygon fill=\"aquamarine\" stroke=\"aquamarine\" points=\"952.515,-730.544 952.515,-745.456 817.963,-756 627.677,-756 493.125,-745.456 493.125,-730.544 627.677,-720 817.963,-720 952.515,-730.544\"/>\n",
       "<text text-anchor=\"middle\" x=\"722.82\" y=\"-733.8\" font-family=\"Times,serif\" font-size=\"14.00\">TaskBindingNode pbsmrtpipe.tasks.dev_hello_garfield&#45;0</text>\n",
       "</g>\n",
       "<!-- BindingOutFileNode pbsmrtpipe.tasks.dev_hello_garfield&#45;0 PacBio.FileTypes.txt&#45;0.0 -->\n",
       "<g id=\"node9\" class=\"node\"><title>BindingOutFileNode pbsmrtpipe.tasks.dev_hello_garfield&#45;0 PacBio.FileTypes.txt&#45;0.0</title>\n",
       "<polygon fill=\"none\" stroke=\"azure\" stroke-dasharray=\"1,5\" points=\"714.542,-658.544 714.542,-673.456 516.123,-684 235.516,-684 37.0977,-673.456 37.0977,-658.544 235.516,-648 516.123,-648 714.542,-658.544\"/>\n",
       "<text text-anchor=\"middle\" x=\"375.82\" y=\"-661.8\" font-family=\"Times,serif\" font-size=\"14.00\">BindingOutFileNode pbsmrtpipe.tasks.dev_hello_garfield&#45;0 PacBio.FileTypes.txt&#45;0.0</text>\n",
       "</g>\n",
       "<!-- TaskBindingNode pbsmrtpipe.tasks.dev_hello_garfield&#45;0&#45;&gt;BindingOutFileNode pbsmrtpipe.tasks.dev_hello_garfield&#45;0 PacBio.FileTypes.txt&#45;0.0 -->\n",
       "<g id=\"edge4\" class=\"edge\"><title>TaskBindingNode pbsmrtpipe.tasks.dev_hello_garfield&#45;0&#45;&gt;BindingOutFileNode pbsmrtpipe.tasks.dev_hello_garfield&#45;0 PacBio.FileTypes.txt&#45;0.0</title>\n",
       "<path fill=\"none\" stroke=\"black\" d=\"M638.378,-719.966C587.586,-709.72 522.825,-696.655 470.329,-686.065\"/>\n",
       "<polygon fill=\"black\" stroke=\"black\" points=\"470.834,-682.597 460.339,-684.05 469.45,-689.458 470.834,-682.597\"/>\n",
       "</g>\n",
       "<!-- BindingOutFileNode pbsmrtpipe.tasks.dev_hello_garfield&#45;0 PacBio.FileTypes.txt&#45;0.1 -->\n",
       "<g id=\"node10\" class=\"node\"><title>BindingOutFileNode pbsmrtpipe.tasks.dev_hello_garfield&#45;0 PacBio.FileTypes.txt&#45;0.1</title>\n",
       "<polygon fill=\"none\" stroke=\"azure\" stroke-dasharray=\"1,5\" points=\"1409.54,-658.544 1409.54,-673.456 1211.12,-684 930.516,-684 732.098,-673.456 732.098,-658.544 930.516,-648 1211.12,-648 1409.54,-658.544\"/>\n",
       "<text text-anchor=\"middle\" x=\"1070.82\" y=\"-661.8\" font-family=\"Times,serif\" font-size=\"14.00\">BindingOutFileNode pbsmrtpipe.tasks.dev_hello_garfield&#45;0 PacBio.FileTypes.txt&#45;0.1</text>\n",
       "</g>\n",
       "<!-- TaskBindingNode pbsmrtpipe.tasks.dev_hello_garfield&#45;0&#45;&gt;BindingOutFileNode pbsmrtpipe.tasks.dev_hello_garfield&#45;0 PacBio.FileTypes.txt&#45;0.1 -->\n",
       "<g id=\"edge5\" class=\"edge\"><title>TaskBindingNode pbsmrtpipe.tasks.dev_hello_garfield&#45;0&#45;&gt;BindingOutFileNode pbsmrtpipe.tasks.dev_hello_garfield&#45;0 PacBio.FileTypes.txt&#45;0.1</title>\n",
       "<path fill=\"none\" stroke=\"black\" d=\"M807.505,-719.966C858.443,-709.72 923.391,-696.655 976.038,-686.065\"/>\n",
       "<polygon fill=\"black\" stroke=\"black\" points=\"976.943,-689.453 986.057,-684.05 975.563,-682.591 976.943,-689.453\"/>\n",
       "</g>\n",
       "<!-- TaskBindingNode pbsmrtpipe.tasks.dev_hello_worlder&#45;0 -->\n",
       "<g id=\"node5\" class=\"node\"><title>TaskBindingNode pbsmrtpipe.tasks.dev_hello_worlder&#45;0</title>\n",
       "<polygon fill=\"aquamarine\" stroke=\"aquamarine\" points=\"952.697,-946.544 952.697,-961.456 818.038,-972 627.601,-972 492.942,-961.456 492.942,-946.544 627.601,-936 818.038,-936 952.697,-946.544\"/>\n",
       "<text text-anchor=\"middle\" x=\"722.82\" y=\"-949.8\" font-family=\"Times,serif\" font-size=\"14.00\">TaskBindingNode pbsmrtpipe.tasks.dev_hello_worlder&#45;0</text>\n",
       "</g>\n",
       "<!-- BindingOutFileNode pbsmrtpipe.tasks.dev_hello_worlder&#45;0 PacBio.FileTypes.txt&#45;0.0 -->\n",
       "<g id=\"node12\" class=\"node\"><title>BindingOutFileNode pbsmrtpipe.tasks.dev_hello_worlder&#45;0 PacBio.FileTypes.txt&#45;0.0</title>\n",
       "<polygon fill=\"none\" stroke=\"azure\" stroke-dasharray=\"1,5\" points=\"1061.72,-874.544 1061.72,-889.456 863.199,-900 582.441,-900 383.915,-889.456 383.915,-874.544 582.441,-864 863.199,-864 1061.72,-874.544\"/>\n",
       "<text text-anchor=\"middle\" x=\"722.82\" y=\"-877.8\" font-family=\"Times,serif\" font-size=\"14.00\">BindingOutFileNode pbsmrtpipe.tasks.dev_hello_worlder&#45;0 PacBio.FileTypes.txt&#45;0.0</text>\n",
       "</g>\n",
       "<!-- TaskBindingNode pbsmrtpipe.tasks.dev_hello_worlder&#45;0&#45;&gt;BindingOutFileNode pbsmrtpipe.tasks.dev_hello_worlder&#45;0 PacBio.FileTypes.txt&#45;0.0 -->\n",
       "<g id=\"edge6\" class=\"edge\"><title>TaskBindingNode pbsmrtpipe.tasks.dev_hello_worlder&#45;0&#45;&gt;BindingOutFileNode pbsmrtpipe.tasks.dev_hello_worlder&#45;0 PacBio.FileTypes.txt&#45;0.0</title>\n",
       "<path fill=\"none\" stroke=\"black\" d=\"M722.82,-935.697C722.82,-927.983 722.82,-918.712 722.82,-910.112\"/>\n",
       "<polygon fill=\"black\" stroke=\"black\" points=\"726.32,-910.104 722.82,-900.104 719.32,-910.104 726.32,-910.104\"/>\n",
       "</g>\n",
       "<!-- BindingInFileNode pbsmrtpipe.tasks.dev_txt_to_fasta&#45;0 PacBio.FileTypes.txt&#45;0.0 -->\n",
       "<g id=\"node6\" class=\"node\"><title>BindingInFileNode pbsmrtpipe.tasks.dev_txt_to_fasta&#45;0 PacBio.FileTypes.txt&#45;0.0</title>\n",
       "<ellipse fill=\"none\" stroke=\"azure\" stroke-dasharray=\"1,5\" cx=\"375.82\" cy=\"-594\" rx=\"299.641\" ry=\"18\"/>\n",
       "<text text-anchor=\"middle\" x=\"375.82\" y=\"-589.8\" font-family=\"Times,serif\" font-size=\"14.00\">BindingInFileNode pbsmrtpipe.tasks.dev_txt_to_fasta&#45;0 PacBio.FileTypes.txt&#45;0.0</text>\n",
       "</g>\n",
       "<!-- BindingInFileNode pbsmrtpipe.tasks.dev_txt_to_fasta&#45;0 PacBio.FileTypes.txt&#45;0.0&#45;&gt;TaskBindingNode pbsmrtpipe.tasks.dev_txt_to_fasta&#45;0 -->\n",
       "<g id=\"edge7\" class=\"edge\"><title>BindingInFileNode pbsmrtpipe.tasks.dev_txt_to_fasta&#45;0 PacBio.FileTypes.txt&#45;0.0&#45;&gt;TaskBindingNode pbsmrtpipe.tasks.dev_txt_to_fasta&#45;0</title>\n",
       "<path fill=\"none\" stroke=\"black\" d=\"M375.82,-575.697C375.82,-567.983 375.82,-558.712 375.82,-550.112\"/>\n",
       "<polygon fill=\"black\" stroke=\"black\" points=\"379.32,-550.104 375.82,-540.104 372.32,-550.104 379.32,-550.104\"/>\n",
       "</g>\n",
       "<!-- EntryPointNode e_01 PacBio.FileTypes.txt -->\n",
       "<g id=\"node7\" class=\"node\"><title>EntryPointNode e_01 PacBio.FileTypes.txt</title>\n",
       "<polygon fill=\"mediumpurple\" stroke=\"mediumpurple\" points=\"722.82,-1404 492.072,-1386 722.82,-1368 953.568,-1386 722.82,-1404\"/>\n",
       "<text text-anchor=\"middle\" x=\"722.82\" y=\"-1381.8\" font-family=\"Times,serif\" font-size=\"14.00\">EntryPointNode e_01 PacBio.FileTypes.txt</text>\n",
       "</g>\n",
       "<!-- EntryPointNode e_01 PacBio.FileTypes.txt&#45;&gt;EntryOutBindingFileNode PacBio.FileTypes.txt e_01 -->\n",
       "<g id=\"edge8\" class=\"edge\"><title>EntryPointNode e_01 PacBio.FileTypes.txt&#45;&gt;EntryOutBindingFileNode PacBio.FileTypes.txt e_01</title>\n",
       "<path fill=\"none\" stroke=\"black\" d=\"M722.82,-1367.7C722.82,-1359.98 722.82,-1350.71 722.82,-1342.11\"/>\n",
       "<polygon fill=\"black\" stroke=\"black\" points=\"726.32,-1342.1 722.82,-1332.1 719.32,-1342.1 726.32,-1342.1\"/>\n",
       "</g>\n",
       "<!-- TaskBindingNode pbsmrtpipe.tasks.dev_filter_fasta&#45;0 -->\n",
       "<g id=\"node8\" class=\"node\"><title>TaskBindingNode pbsmrtpipe.tasks.dev_filter_fasta&#45;0</title>\n",
       "<polygon fill=\"aquamarine\" stroke=\"aquamarine\" points=\"593.052,-298.544 593.052,-313.456 465.8,-324 285.839,-324 158.588,-313.456 158.588,-298.544 285.839,-288 465.8,-288 593.052,-298.544\"/>\n",
       "<text text-anchor=\"middle\" x=\"375.82\" y=\"-301.8\" font-family=\"Times,serif\" font-size=\"14.00\">TaskBindingNode pbsmrtpipe.tasks.dev_filter_fasta&#45;0</text>\n",
       "</g>\n",
       "<!-- BindingOutFileNode pbsmrtpipe.tasks.dev_filter_fasta&#45;0 PacBio.FileTypes.Fasta&#45;0.0 -->\n",
       "<g id=\"node16\" class=\"node\"><title>BindingOutFileNode pbsmrtpipe.tasks.dev_filter_fasta&#45;0 PacBio.FileTypes.Fasta&#45;0.0</title>\n",
       "<polygon fill=\"none\" stroke=\"azure\" stroke-dasharray=\"1,5\" points=\"712.279,-226.544 712.279,-241.456 515.186,-252 236.454,-252 39.3603,-241.456 39.3603,-226.544 236.454,-216 515.186,-216 712.279,-226.544\"/>\n",
       "<text text-anchor=\"middle\" x=\"375.82\" y=\"-229.8\" font-family=\"Times,serif\" font-size=\"14.00\">BindingOutFileNode pbsmrtpipe.tasks.dev_filter_fasta&#45;0 PacBio.FileTypes.Fasta&#45;0.0</text>\n",
       "</g>\n",
       "<!-- TaskBindingNode pbsmrtpipe.tasks.dev_filter_fasta&#45;0&#45;&gt;BindingOutFileNode pbsmrtpipe.tasks.dev_filter_fasta&#45;0 PacBio.FileTypes.Fasta&#45;0.0 -->\n",
       "<g id=\"edge9\" class=\"edge\"><title>TaskBindingNode pbsmrtpipe.tasks.dev_filter_fasta&#45;0&#45;&gt;BindingOutFileNode pbsmrtpipe.tasks.dev_filter_fasta&#45;0 PacBio.FileTypes.Fasta&#45;0.0</title>\n",
       "<path fill=\"none\" stroke=\"black\" d=\"M375.82,-287.697C375.82,-279.983 375.82,-270.712 375.82,-262.112\"/>\n",
       "<polygon fill=\"black\" stroke=\"black\" points=\"379.32,-262.104 375.82,-252.104 372.32,-262.104 379.32,-262.104\"/>\n",
       "</g>\n",
       "<!-- BindingOutFileNode pbsmrtpipe.tasks.dev_hello_garfield&#45;0 PacBio.FileTypes.txt&#45;0.0&#45;&gt;BindingInFileNode pbsmrtpipe.tasks.dev_txt_to_fasta&#45;0 PacBio.FileTypes.txt&#45;0.0 -->\n",
       "<g id=\"edge10\" class=\"edge\"><title>BindingOutFileNode pbsmrtpipe.tasks.dev_hello_garfield&#45;0 PacBio.FileTypes.txt&#45;0.0&#45;&gt;BindingInFileNode pbsmrtpipe.tasks.dev_txt_to_fasta&#45;0 PacBio.FileTypes.txt&#45;0.0</title>\n",
       "<path fill=\"none\" stroke=\"black\" d=\"M375.82,-647.697C375.82,-639.983 375.82,-630.712 375.82,-622.112\"/>\n",
       "<polygon fill=\"black\" stroke=\"black\" points=\"379.32,-622.104 375.82,-612.104 372.32,-622.104 379.32,-622.104\"/>\n",
       "</g>\n",
       "<!-- BindingInFileNode pbsmrtpipe.tasks.dev_filter_fasta&#45;0 PacBio.FileTypes.Fasta&#45;0.0 -->\n",
       "<g id=\"node21\" class=\"node\"><title>BindingInFileNode pbsmrtpipe.tasks.dev_filter_fasta&#45;0 PacBio.FileTypes.Fasta&#45;0.0</title>\n",
       "<ellipse fill=\"none\" stroke=\"azure\" stroke-dasharray=\"1,5\" cx=\"375.82\" cy=\"-378\" rx=\"304.936\" ry=\"18\"/>\n",
       "<text text-anchor=\"middle\" x=\"375.82\" y=\"-373.8\" font-family=\"Times,serif\" font-size=\"14.00\">BindingInFileNode pbsmrtpipe.tasks.dev_filter_fasta&#45;0 PacBio.FileTypes.Fasta&#45;0.0</text>\n",
       "</g>\n",
       "<!-- BindingOutFileNode pbsmrtpipe.tasks.dev_txt_to_fasta&#45;0 PacBio.FileTypes.Fasta&#45;0.0&#45;&gt;BindingInFileNode pbsmrtpipe.tasks.dev_filter_fasta&#45;0 PacBio.FileTypes.Fasta&#45;0.0 -->\n",
       "<g id=\"edge11\" class=\"edge\"><title>BindingOutFileNode pbsmrtpipe.tasks.dev_txt_to_fasta&#45;0 PacBio.FileTypes.Fasta&#45;0.0&#45;&gt;BindingInFileNode pbsmrtpipe.tasks.dev_filter_fasta&#45;0 PacBio.FileTypes.Fasta&#45;0.0</title>\n",
       "<path fill=\"none\" stroke=\"black\" d=\"M375.82,-431.697C375.82,-423.983 375.82,-414.712 375.82,-406.112\"/>\n",
       "<polygon fill=\"black\" stroke=\"black\" points=\"379.32,-406.104 375.82,-396.104 372.32,-406.104 379.32,-406.104\"/>\n",
       "</g>\n",
       "<!-- BindingInFileNode pbsmrtpipe.tasks.dev_hello_garfield&#45;0 PacBio.FileTypes.txt&#45;0.0 -->\n",
       "<g id=\"node17\" class=\"node\"><title>BindingInFileNode pbsmrtpipe.tasks.dev_hello_garfield&#45;0 PacBio.FileTypes.txt&#45;0.0</title>\n",
       "<ellipse fill=\"none\" stroke=\"azure\" stroke-dasharray=\"1,5\" cx=\"722.82\" cy=\"-810\" rx=\"306.875\" ry=\"18\"/>\n",
       "<text text-anchor=\"middle\" x=\"722.82\" y=\"-805.8\" font-family=\"Times,serif\" font-size=\"14.00\">BindingInFileNode pbsmrtpipe.tasks.dev_hello_garfield&#45;0 PacBio.FileTypes.txt&#45;0.0</text>\n",
       "</g>\n",
       "<!-- BindingOutFileNode pbsmrtpipe.tasks.dev_hello_worlder&#45;0 PacBio.FileTypes.txt&#45;0.0&#45;&gt;BindingInFileNode pbsmrtpipe.tasks.dev_hello_garfield&#45;0 PacBio.FileTypes.txt&#45;0.0 -->\n",
       "<g id=\"edge12\" class=\"edge\"><title>BindingOutFileNode pbsmrtpipe.tasks.dev_hello_worlder&#45;0 PacBio.FileTypes.txt&#45;0.0&#45;&gt;BindingInFileNode pbsmrtpipe.tasks.dev_hello_garfield&#45;0 PacBio.FileTypes.txt&#45;0.0</title>\n",
       "<path fill=\"none\" stroke=\"black\" d=\"M722.82,-863.697C722.82,-855.983 722.82,-846.712 722.82,-838.112\"/>\n",
       "<polygon fill=\"black\" stroke=\"black\" points=\"726.32,-838.104 722.82,-828.104 719.32,-838.104 726.32,-838.104\"/>\n",
       "</g>\n",
       "<!-- BindingOutFileNode pbsmrtpipe.tasks.dev_tc_fasta_report&#45;0 PacBio.FileTypes.JsonReport&#45;0.0 -->\n",
       "<g id=\"node13\" class=\"node\"><title>BindingOutFileNode pbsmrtpipe.tasks.dev_tc_fasta_report&#45;0 PacBio.FileTypes.JsonReport&#45;0.0</title>\n",
       "<polygon fill=\"none\" stroke=\"azure\" stroke-dasharray=\"1,5\" points=\"751.459,-10.5442 751.459,-25.4558 531.415,-36 220.225,-36 0.180185,-25.4558 0.180185,-10.5442 220.225,-7.10543e-15 531.415,-0 751.459,-10.5442\"/>\n",
       "<text text-anchor=\"middle\" x=\"375.82\" y=\"-13.8\" font-family=\"Times,serif\" font-size=\"14.00\">BindingOutFileNode pbsmrtpipe.tasks.dev_tc_fasta_report&#45;0 PacBio.FileTypes.JsonReport&#45;0.0</text>\n",
       "</g>\n",
       "<!-- TaskBindingNode pbsmrtpipe.tasks.dev_tc_fasta_report&#45;0 -->\n",
       "<g id=\"node14\" class=\"node\"><title>TaskBindingNode pbsmrtpipe.tasks.dev_tc_fasta_report&#45;0</title>\n",
       "<polygon fill=\"aquamarine\" stroke=\"aquamarine\" points=\"609.493,-82.5442 609.493,-97.4558 472.61,-108 279.029,-108 142.146,-97.4558 142.146,-82.5442 279.029,-72 472.61,-72 609.493,-82.5442\"/>\n",
       "<text text-anchor=\"middle\" x=\"375.82\" y=\"-85.8\" font-family=\"Times,serif\" font-size=\"14.00\">TaskBindingNode pbsmrtpipe.tasks.dev_tc_fasta_report&#45;0</text>\n",
       "</g>\n",
       "<!-- TaskBindingNode pbsmrtpipe.tasks.dev_tc_fasta_report&#45;0&#45;&gt;BindingOutFileNode pbsmrtpipe.tasks.dev_tc_fasta_report&#45;0 PacBio.FileTypes.JsonReport&#45;0.0 -->\n",
       "<g id=\"edge13\" class=\"edge\"><title>TaskBindingNode pbsmrtpipe.tasks.dev_tc_fasta_report&#45;0&#45;&gt;BindingOutFileNode pbsmrtpipe.tasks.dev_tc_fasta_report&#45;0 PacBio.FileTypes.JsonReport&#45;0.0</title>\n",
       "<path fill=\"none\" stroke=\"black\" d=\"M375.82,-71.6966C375.82,-63.9827 375.82,-54.7125 375.82,-46.1124\"/>\n",
       "<polygon fill=\"black\" stroke=\"black\" points=\"379.32,-46.1043 375.82,-36.1043 372.32,-46.1044 379.32,-46.1043\"/>\n",
       "</g>\n",
       "<!-- BindingInFileNode pbsmrtpipe.tasks.dev_hello_world&#45;0 PacBio.FileTypes.txt&#45;0.0&#45;&gt;TaskBindingNode pbsmrtpipe.tasks.dev_hello_world&#45;0 -->\n",
       "<g id=\"edge14\" class=\"edge\"><title>BindingInFileNode pbsmrtpipe.tasks.dev_hello_world&#45;0 PacBio.FileTypes.txt&#45;0.0&#45;&gt;TaskBindingNode pbsmrtpipe.tasks.dev_hello_world&#45;0</title>\n",
       "<path fill=\"none\" stroke=\"black\" d=\"M722.82,-1223.7C722.82,-1215.98 722.82,-1206.71 722.82,-1198.11\"/>\n",
       "<polygon fill=\"black\" stroke=\"black\" points=\"726.32,-1198.1 722.82,-1188.1 719.32,-1198.1 726.32,-1198.1\"/>\n",
       "</g>\n",
       "<!-- BindingInFileNode pbsmrtpipe.tasks.dev_tc_fasta_report&#45;0 PacBio.FileTypes.Fasta&#45;0.0 -->\n",
       "<g id=\"node18\" class=\"node\"><title>BindingInFileNode pbsmrtpipe.tasks.dev_tc_fasta_report&#45;0 PacBio.FileTypes.Fasta&#45;0.0</title>\n",
       "<ellipse fill=\"none\" stroke=\"azure\" stroke-dasharray=\"1,5\" cx=\"375.82\" cy=\"-162\" rx=\"320.37\" ry=\"18\"/>\n",
       "<text text-anchor=\"middle\" x=\"375.82\" y=\"-157.8\" font-family=\"Times,serif\" font-size=\"14.00\">BindingInFileNode pbsmrtpipe.tasks.dev_tc_fasta_report&#45;0 PacBio.FileTypes.Fasta&#45;0.0</text>\n",
       "</g>\n",
       "<!-- BindingOutFileNode pbsmrtpipe.tasks.dev_filter_fasta&#45;0 PacBio.FileTypes.Fasta&#45;0.0&#45;&gt;BindingInFileNode pbsmrtpipe.tasks.dev_tc_fasta_report&#45;0 PacBio.FileTypes.Fasta&#45;0.0 -->\n",
       "<g id=\"edge15\" class=\"edge\"><title>BindingOutFileNode pbsmrtpipe.tasks.dev_filter_fasta&#45;0 PacBio.FileTypes.Fasta&#45;0.0&#45;&gt;BindingInFileNode pbsmrtpipe.tasks.dev_tc_fasta_report&#45;0 PacBio.FileTypes.Fasta&#45;0.0</title>\n",
       "<path fill=\"none\" stroke=\"black\" d=\"M375.82,-215.697C375.82,-207.983 375.82,-198.712 375.82,-190.112\"/>\n",
       "<polygon fill=\"black\" stroke=\"black\" points=\"379.32,-190.104 375.82,-180.104 372.32,-190.104 379.32,-190.104\"/>\n",
       "</g>\n",
       "<!-- BindingInFileNode pbsmrtpipe.tasks.dev_hello_garfield&#45;0 PacBio.FileTypes.txt&#45;0.0&#45;&gt;TaskBindingNode pbsmrtpipe.tasks.dev_hello_garfield&#45;0 -->\n",
       "<g id=\"edge16\" class=\"edge\"><title>BindingInFileNode pbsmrtpipe.tasks.dev_hello_garfield&#45;0 PacBio.FileTypes.txt&#45;0.0&#45;&gt;TaskBindingNode pbsmrtpipe.tasks.dev_hello_garfield&#45;0</title>\n",
       "<path fill=\"none\" stroke=\"black\" d=\"M722.82,-791.697C722.82,-783.983 722.82,-774.712 722.82,-766.112\"/>\n",
       "<polygon fill=\"black\" stroke=\"black\" points=\"726.32,-766.104 722.82,-756.104 719.32,-766.104 726.32,-766.104\"/>\n",
       "</g>\n",
       "<!-- BindingInFileNode pbsmrtpipe.tasks.dev_tc_fasta_report&#45;0 PacBio.FileTypes.Fasta&#45;0.0&#45;&gt;TaskBindingNode pbsmrtpipe.tasks.dev_tc_fasta_report&#45;0 -->\n",
       "<g id=\"edge17\" class=\"edge\"><title>BindingInFileNode pbsmrtpipe.tasks.dev_tc_fasta_report&#45;0 PacBio.FileTypes.Fasta&#45;0.0&#45;&gt;TaskBindingNode pbsmrtpipe.tasks.dev_tc_fasta_report&#45;0</title>\n",
       "<path fill=\"none\" stroke=\"black\" d=\"M375.82,-143.697C375.82,-135.983 375.82,-126.712 375.82,-118.112\"/>\n",
       "<polygon fill=\"black\" stroke=\"black\" points=\"379.32,-118.104 375.82,-108.104 372.32,-118.104 379.32,-118.104\"/>\n",
       "</g>\n",
       "<!-- BindingInFileNode pbsmrtpipe.tasks.dev_hello_worlder&#45;0 PacBio.FileTypes.txt&#45;0.0 -->\n",
       "<g id=\"node19\" class=\"node\"><title>BindingInFileNode pbsmrtpipe.tasks.dev_hello_worlder&#45;0 PacBio.FileTypes.txt&#45;0.0</title>\n",
       "<ellipse fill=\"none\" stroke=\"azure\" stroke-dasharray=\"1,5\" cx=\"722.82\" cy=\"-1026\" rx=\"307.005\" ry=\"18\"/>\n",
       "<text text-anchor=\"middle\" x=\"722.82\" y=\"-1021.8\" font-family=\"Times,serif\" font-size=\"14.00\">BindingInFileNode pbsmrtpipe.tasks.dev_hello_worlder&#45;0 PacBio.FileTypes.txt&#45;0.0</text>\n",
       "</g>\n",
       "<!-- BindingInFileNode pbsmrtpipe.tasks.dev_hello_worlder&#45;0 PacBio.FileTypes.txt&#45;0.0&#45;&gt;TaskBindingNode pbsmrtpipe.tasks.dev_hello_worlder&#45;0 -->\n",
       "<g id=\"edge18\" class=\"edge\"><title>BindingInFileNode pbsmrtpipe.tasks.dev_hello_worlder&#45;0 PacBio.FileTypes.txt&#45;0.0&#45;&gt;TaskBindingNode pbsmrtpipe.tasks.dev_hello_worlder&#45;0</title>\n",
       "<path fill=\"none\" stroke=\"black\" d=\"M722.82,-1007.7C722.82,-999.983 722.82,-990.712 722.82,-982.112\"/>\n",
       "<polygon fill=\"black\" stroke=\"black\" points=\"726.32,-982.104 722.82,-972.104 719.32,-982.104 726.32,-982.104\"/>\n",
       "</g>\n",
       "<!-- BindingOutFileNode pbsmrtpipe.tasks.dev_hello_world&#45;0 PacBio.FileTypes.txt&#45;0.0&#45;&gt;BindingInFileNode pbsmrtpipe.tasks.dev_hello_worlder&#45;0 PacBio.FileTypes.txt&#45;0.0 -->\n",
       "<g id=\"edge19\" class=\"edge\"><title>BindingOutFileNode pbsmrtpipe.tasks.dev_hello_world&#45;0 PacBio.FileTypes.txt&#45;0.0&#45;&gt;BindingInFileNode pbsmrtpipe.tasks.dev_hello_worlder&#45;0 PacBio.FileTypes.txt&#45;0.0</title>\n",
       "<path fill=\"none\" stroke=\"black\" d=\"M722.82,-1079.7C722.82,-1071.98 722.82,-1062.71 722.82,-1054.11\"/>\n",
       "<polygon fill=\"black\" stroke=\"black\" points=\"726.32,-1054.1 722.82,-1044.1 719.32,-1054.1 726.32,-1054.1\"/>\n",
       "</g>\n",
       "<!-- BindingInFileNode pbsmrtpipe.tasks.dev_filter_fasta&#45;0 PacBio.FileTypes.Fasta&#45;0.0&#45;&gt;TaskBindingNode pbsmrtpipe.tasks.dev_filter_fasta&#45;0 -->\n",
       "<g id=\"edge20\" class=\"edge\"><title>BindingInFileNode pbsmrtpipe.tasks.dev_filter_fasta&#45;0 PacBio.FileTypes.Fasta&#45;0.0&#45;&gt;TaskBindingNode pbsmrtpipe.tasks.dev_filter_fasta&#45;0</title>\n",
       "<path fill=\"none\" stroke=\"black\" d=\"M375.82,-359.697C375.82,-351.983 375.82,-342.712 375.82,-334.112\"/>\n",
       "<polygon fill=\"black\" stroke=\"black\" points=\"379.32,-334.104 375.82,-324.104 372.32,-334.104 379.32,-334.104\"/>\n",
       "</g>\n",
       "</g>\n",
       "</svg>\n"
      ]
     },
     "metadata": {},
     "output_type": "display_data"
    }
   ],
   "source": [
    "TB.display_dot_str(dot_str)"
   ]
  },
  {
   "cell_type": "code",
   "execution_count": 12,
   "metadata": {
    "collapsed": false
   },
   "outputs": [
    {
     "name": "stdout",
     "output_type": "stream",
     "text": [
      "********************************************************************************\n",
      "Binding Graph Status Summary\n",
      "--------------------------------------------------------------------------------\n",
      "Workflow complete? False\n",
      "--------------------------------------------------------------------------------\n",
      "Task Summary 7 tasks (created:{<TaskBindingNode pbsmrtpipe.tasks.dev_hello_world-0>: 'created', <TaskBindingNode pbsmrtpipe.tasks.dev_txt_to_fasta-0>: 'created', <TaskBindingNode pbsmrtpipe.tasks.dev_hello_garfield-0>: 'created', <EntryPointNode e_01 PacBio.FileTypes.txt>: 'created', <TaskBindingNode pbsmrtpipe.tasks.dev_filter_fasta-0>: 'created', <TaskBindingNode pbsmrtpipe.tasks.dev_tc_fasta_report-0>: 'created', <TaskBindingNode pbsmrtpipe.tasks.dev_hello_worlder-0>: 'created'} successful:{} scattered:{} submitted:{} failed:{} running:{} ready:{} killed:{})\n",
      "--------------------------------------------------------------------------------\n",
      "resolved inputs      resolved outputs     state        NodeType                       N inputs     N outputs    run time     Id                                                          \n",
      "--------------------------------------------------------------------------------\n",
      "True                 False                created      EntryPointNode                 0            1            None         EntryPointNode e_01 PacBio.FileTypes.txt                    \n",
      "False                False                created      TaskBindingNode                1            1            None         TaskBindingNode pbsmrtpipe.tasks.dev_hello_world-0          \n",
      "False                False                created      TaskBindingNode                1            1            None         TaskBindingNode pbsmrtpipe.tasks.dev_hello_worlder-0        \n",
      "False                False                created      TaskBindingNode                1            2            None         TaskBindingNode pbsmrtpipe.tasks.dev_hello_garfield-0       \n",
      "False                False                created      TaskBindingNode                1            1            None         TaskBindingNode pbsmrtpipe.tasks.dev_txt_to_fasta-0         \n",
      "False                False                created      TaskBindingNode                1            1            None         TaskBindingNode pbsmrtpipe.tasks.dev_filter_fasta-0         \n",
      "False                False                created      TaskBindingNode                1            1            None         TaskBindingNode pbsmrtpipe.tasks.dev_tc_fasta_report-0      \n",
      "\n",
      "--------------------------------------------------------------------------------\n",
      "File Summary (14) files\n",
      "--------------------------------------------------------------------------------\n",
      "resolved   NodeType           Path                                     Id\n",
      "--------------------------------------------------------------------------------\n",
      "False      EntryOutBindingFileNode None                                     EntryOutBindingFileNode PacBio.FileTypes.txt e_01\n",
      "False      BindingInFileNode  None                                     BindingInFileNode pbsmrtpipe.tasks.dev_hello_world-0 PacBio.FileTypes.txt-0.0\n",
      "False      BindingOutFileNode None                                     BindingOutFileNode pbsmrtpipe.tasks.dev_hello_world-0 PacBio.FileTypes.txt-0.0\n",
      "False      BindingInFileNode  None                                     BindingInFileNode pbsmrtpipe.tasks.dev_hello_worlder-0 PacBio.FileTypes.txt-0.0\n",
      "False      BindingOutFileNode None                                     BindingOutFileNode pbsmrtpipe.tasks.dev_hello_worlder-0 PacBio.FileTypes.txt-0.0\n",
      "False      BindingInFileNode  None                                     BindingInFileNode pbsmrtpipe.tasks.dev_hello_garfield-0 PacBio.FileTypes.txt-0.0\n",
      "False      BindingOutFileNode None                                     BindingOutFileNode pbsmrtpipe.tasks.dev_hello_garfield-0 PacBio.FileTypes.txt-0.0\n",
      "False      BindingInFileNode  None                                     BindingInFileNode pbsmrtpipe.tasks.dev_txt_to_fasta-0 PacBio.FileTypes.txt-0.0\n",
      "False      BindingOutFileNode None                                     BindingOutFileNode pbsmrtpipe.tasks.dev_txt_to_fasta-0 PacBio.FileTypes.Fasta-0.0\n",
      "False      BindingInFileNode  None                                     BindingInFileNode pbsmrtpipe.tasks.dev_filter_fasta-0 PacBio.FileTypes.Fasta-0.0\n",
      "False      BindingOutFileNode None                                     BindingOutFileNode pbsmrtpipe.tasks.dev_filter_fasta-0 PacBio.FileTypes.Fasta-0.0\n",
      "False      BindingInFileNode  None                                     BindingInFileNode pbsmrtpipe.tasks.dev_tc_fasta_report-0 PacBio.FileTypes.Fasta-0.0\n",
      "False      BindingOutFileNode None                                     BindingOutFileNode pbsmrtpipe.tasks.dev_tc_fasta_report-0 PacBio.FileTypes.JsonReport-0.0\n",
      "False      BindingOutFileNode None                                     BindingOutFileNode pbsmrtpipe.tasks.dev_hello_garfield-0 PacBio.FileTypes.txt-0.1\n",
      "\n",
      "--------------------------------------------------------------------------------\n",
      "Entry Point Node Summary (1)\n",
      "--------------------------------------------------------------------------------\n",
      "resolved   NodeType           Path                                     Id\n",
      "--------------------------------------------------------------------------------\n",
      "False      BindingOutFileNode None                                     BindingOutFileNode pbsmrtpipe.tasks.dev_hello_garfield-0 PacBio.FileTypes.txt-0.1\n",
      "--------------------------------------------------------------------------------\n"
     ]
    }
   ],
   "source": [
    "print BU.to_binding_graph_summary(bg)"
   ]
  }
 ],
 "metadata": {
  "kernelspec": {
   "display_name": "Python 2",
   "language": "python",
   "name": "python2"
  },
  "language_info": {
   "codemirror_mode": {
    "name": "ipython",
    "version": 2
   },
   "file_extension": ".py",
   "mimetype": "text/x-python",
   "name": "python",
   "nbconvert_exporter": "python",
   "pygments_lexer": "ipython2",
   "version": "2.7.11"
  }
 },
 "nbformat": 4,
 "nbformat_minor": 0
}
